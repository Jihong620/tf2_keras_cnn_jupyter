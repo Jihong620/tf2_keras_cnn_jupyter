{
 "cells": [
  {
   "cell_type": "code",
   "execution_count": null,
   "metadata": {},
   "outputs": [],
   "source": [
    "import tensorflow as tf\n",
    "import numpy as np               # 陣列運算的數學函數函式庫\n",
    "import matplotlib.pyplot as plt  # 繪圖庫\n",
    "import os                        # 處理文件和目錄\n",
    "import gzip"
   ]
  },
  {
   "cell_type": "code",
   "execution_count": null,
   "metadata": {},
   "outputs": [],
   "source": [
    "# 建立 10 種類別\n",
    "class_names = ['T-shirt/top',  # 0: index\n",
    "               'Trouser',      # 1\n",
    "               'Pullover',     # 2\n",
    "               'Dress',        # 3\n",
    "               'Coat',         # 4\n",
    "               'Sandal',       # 5\n",
    "               'Shirt',        # 6\n",
    "               'Sneaker',      # 7\n",
    "               'Bag',          # 8\n",
    "               'Ankle boot']   # 9"
   ]
  },
  {
   "cell_type": "code",
   "execution_count": null,
   "metadata": {},
   "outputs": [],
   "source": [
    "# 建立 Function, using the def keyword:\n",
    "# 秀單張圖\n",
    "def plot_image(img):  # 參攷[1]\n",
    "    plt.figure()      # 建立一個Figure顯示區, 參攷[2]\n",
    "    plt.imshow(img)   # 顯示圖片, 參攷[3]\n",
    "    # plt.colorbar()\n",
    "    plt.grid(True)    # 顯示網格, 參攷[4]\n",
    "    plt.show()        # 秀圖, 參攷[5]"
   ]
  },
  {
   "cell_type": "markdown",
   "metadata": {},
   "source": [
    "#### 參攷:\n",
    "1. https://docs.python.org/3/tutorial/controlflow.html#defining-functions\n",
    "2. https://matplotlib.org/3.1.1/api/_as_gen/matplotlib.pyplot.figure.html\n",
    "3. https://matplotlib.org/3.1.1/api/_as_gen/matplotlib.pyplot.imshow.html?highlight=imshow#matplotlib.pyplot.imshow\n",
    "4. https://matplotlib.org/3.1.1/api/_as_gen/matplotlib.pyplot.grid.html?highlight=grid#matplotlib.pyplot.grid\n",
    "5. https://matplotlib.org/3.1.1/api/_as_gen/matplotlib.pyplot.show.html?highlight=show#matplotlib.pyplot.show"
   ]
  },
  {
   "cell_type": "code",
   "execution_count": null,
   "metadata": {},
   "outputs": [],
   "source": [
    "# 秀出多張訓練集圖片(含label)\n",
    "def plot_images(imgs, lbls): \n",
    "    plt.figure(figsize=(15, 15))  # 定義一個圖像視窗, 每個小視窗大小(寬,高), 單位為英吋\n",
    "    for i in range(100):\n",
    "        plt.subplot(10, 10, i + 1)  # 分格顯示, subplot(numRows=行, numCols=列, plotNum=編號) \n",
    "        plt.xticks([])              # 無 x軸刻度\n",
    "        plt.yticks([])              # 無 y軸刻度\n",
    "        plt.grid(False)             # 無 格線\n",
    "        plt.imshow(imgs[i], cmap=plt.cm.binary)  # colormaps=gray將影像顯示為黑底白字、gray_r將其顯示為白底黑字\n",
    "        plt.xlabel(class_names[lbls[i]], fontsize=10)         # 設定 x-axis 標籤 秀 class name, 參攷[1]\n",
    "\n",
    "    plt.tight_layout()  # 參攷[2]\n",
    "    plt.show()"
   ]
  },
  {
   "cell_type": "markdown",
   "metadata": {},
   "source": [
    "#### 參攷:\n",
    "1. https://matplotlib.org/3.1.1/api/_as_gen/matplotlib.pyplot.xlabel.html?highlight=xlabel#matplotlib.pyplot.xlabel\n",
    "2. https://matplotlib.org/3.1.1/api/_as_gen/matplotlib.pyplot.tight_layout.html"
   ]
  },
  {
   "cell_type": "code",
   "execution_count": null,
   "metadata": {},
   "outputs": [],
   "source": [
    "# 定義繪圖函式\n",
    "def plot_Images(imgs, labels=None, rows=1, figsize=(20, 8), fontsize=10):\n",
    "    figure = plt.figure(figsize=figsize)\n",
    "    cols = max(1, len(imgs) // rows - 1)\n",
    "    labels_present = False\n",
    "\n",
    "    # checking if labels is a numpy array\n",
    "    if type(labels).__module__ == np.__name__:\n",
    "        labels_present = labels.any()\n",
    "    elif labels:\n",
    "        labels_present = True\n",
    "\n",
    "    for i in range(len(imgs)):\n",
    "        subplot = figure.add_subplot(rows, cols + 1, i + 1)\n",
    "\n",
    "        # axis off, but leave a bounding box\n",
    "        plt.tick_params(   # 設置參數, 參攷\n",
    "            axis='both',   # 設置X軸、Y軸\n",
    "            which='both',  # 設置主刻度線、副刻度線\n",
    "            bottom=False,  # 設置繪圖區四個邊框線上的的刻度線是否顯示\n",
    "            top=False,\n",
    "            left=False,\n",
    "            right=False,\n",
    "            labelbottom=False,  # 設置繪圖區四個邊框線上的刻度線標籤是否顯示\n",
    "            labelleft=False)\n",
    "\n",
    "        # plot labels if present\n",
    "        if labels_present:\n",
    "            subplot.set_title(class_names[labels[i]], fontsize=fontsize)\n",
    "        plt.imshow(imgs[i][:,:,0], cmap='binary')\n",
    "\n",
    "    plt.tight_layout()\n",
    "    plt.show()"
   ]
  },
  {
   "cell_type": "markdown",
   "metadata": {},
   "source": [
    "#### 參攷: https://matplotlib.org/3.1.1/api/_as_gen/matplotlib.pyplot.tick_params.html"
   ]
  },
  {
   "cell_type": "code",
   "execution_count": null,
   "metadata": {},
   "outputs": [],
   "source": [
    "# 繪製預測(含label)的圖片\n",
    "def plot_pred_image(i, predictions_array, true_label, img):\n",
    "    predictions_array, true_label, img= predictions_array, true_label[i], img[i]\n",
    "    plt.grid(False)\n",
    "    plt.xticks([])\n",
    "    plt.yticks([])\n",
    "\n",
    "    plt.imshow(img, cmap=plt.cm.binary)\n",
    "\n",
    "    predicted_label = np.argmax(predictions_array)\n",
    "    if predicted_label == true_label:\n",
    "        color = 'blue'  # 相等\n",
    "    else:\n",
    "        color = 'red'   # 不相等\n",
    "\n",
    "    plt.xlabel(\"{} {:2.0f}% ({})\".format(class_names[predicted_label],\n",
    "                                100 * np.max(predictions_array),  # 參攷\n",
    "                                class_names[true_label]),\n",
    "                                color=color)"
   ]
  },
  {
   "cell_type": "markdown",
   "metadata": {},
   "source": [
    "#### 參攷: https://docs.scipy.org/doc/numpy/reference/generated/numpy.ndarray.max.html"
   ]
  },
  {
   "cell_type": "code",
   "execution_count": null,
   "metadata": {},
   "outputs": [],
   "source": [
    "# 繪製測試label vs. 真實label的bar圖\n",
    "def plot_value_array(i, predictions_array, true_label):\n",
    "    predictions_array, true_label = predictions_array, true_label[i]\n",
    "    plt.grid(False)\n",
    "    plt.xticks(range(10))\n",
    "    plt.yticks([])\n",
    "    thisplot = plt.bar(range(10), predictions_array, color=\"#777777\")  # 參攷\n",
    "    plt.ylim([0, 1])\n",
    "    predicted_label = np.argmax(predictions_array)\n",
    "\n",
    "    thisplot[predicted_label].set_color('red')\n",
    "    thisplot[true_label].set_color('blue')"
   ]
  },
  {
   "cell_type": "markdown",
   "metadata": {},
   "source": [
    "#### 參攷: https://matplotlib.org/3.1.1/api/_as_gen/matplotlib.pyplot.bar.html"
   ]
  },
  {
   "cell_type": "code",
   "execution_count": null,
   "metadata": {},
   "outputs": [],
   "source": [
    "# 計算saved_model目錄中variables的size\n",
    "def get_size(model_dir):\n",
    "    print(model_dir)\n",
    "    print(\"\")\n",
    "\n",
    "    pb_size = os.path.getsize(os.path.join(model_dir, 'saved_model.pb'))  # 參攷\n",
    "\n",
    "    variables_size = 0\n",
    "    if os.path.exists(os.path.join(model_dir, 'variables/variables.data-00000-of-00002')):\n",
    "        variables_size = os.path.getsize(os.path.join(model_dir, 'variables/variables.data-00001-of-00002'))\n",
    "        variables_size += os.path.getsize(os.path.join(model_dir, 'variables/variables.index'))\n",
    "\n",
    "    print(\"Model size: {} KB\".format(round(pb_size / (1024.0), 3)))\n",
    "    print(\"Variables size: {} KB\".format(round(variables_size / (1024.0), 3)))\n",
    "    print(\"Total Size: {} KB\".format(round((pb_size + variables_size) / (1024.0), 3)))"
   ]
  },
  {
   "cell_type": "markdown",
   "metadata": {},
   "source": [
    "#### 參攷: https://docs.python.org/3/library/os.path.html#os.path.getsize"
   ]
  },
  {
   "cell_type": "code",
   "execution_count": null,
   "metadata": {},
   "outputs": [],
   "source": [
    "# 繪製預測圖片(含label)\n",
    "def plot_predict(predict, labels, images):\n",
    "    num_rows = 5\n",
    "    num_cols = 3\n",
    "    num_images = num_rows * num_cols\n",
    "    plt.figure(figsize=(2 * 2 * num_cols, 2 * num_rows))\n",
    "\n",
    "    for i in range(num_images):\n",
    "        plt.subplot(num_rows, 2 * num_cols, 2 * i + 1)  # 參攷\n",
    "        plot_pred_image(i, predict[i], labels, images)\n",
    "        plt.subplot(num_rows, 2 * num_cols, 2 * i + 2)\n",
    "        plot_value_array(i, predict[i], labels)\n",
    "\n",
    "    plt.tight_layout()\n",
    "    plt.show()"
   ]
  },
  {
   "cell_type": "markdown",
   "metadata": {},
   "source": [
    "#### 參攷: https://matplotlib.org/3.1.1/api/_as_gen/matplotlib.pyplot.subplot.html"
   ]
  },
  {
   "cell_type": "code",
   "execution_count": null,
   "metadata": {},
   "outputs": [],
   "source": [
    "# 讀取路徑圖片並正規化\n",
    "def load_and_preprocess_image_rgb(path):\n",
    "    image = tf.io.read_file(path)\n",
    "    image = tf.image.decode_jpeg(contents=image, channels=3)  # RGB, 參攷\n",
    "    image = tf.image.resize(image, size=[256, 256])\n",
    "    # Normalize the pixel values\n",
    "    image /= 255.0  # normalize to [0,1] range\n",
    "    return image"
   ]
  },
  {
   "cell_type": "markdown",
   "metadata": {},
   "source": [
    "#### 參攷: https://www.tensorflow.org/api_docs/python/tf/io/decode_jpeg"
   ]
  },
  {
   "cell_type": "code",
   "execution_count": null,
   "metadata": {},
   "outputs": [],
   "source": [
    "# 讀取路徑圖片並預處理\n",
    "def load_and_preprocess_image(path):\n",
    "    image = tf.io.read_file(path)  # 參攷\n",
    "    return preprocess_image(image)"
   ]
  },
  {
   "cell_type": "markdown",
   "metadata": {},
   "source": [
    "#### 參攷: https://www.tensorflow.org/api_docs/python/tf/io/read_file"
   ]
  },
  {
   "cell_type": "code",
   "execution_count": null,
   "metadata": {},
   "outputs": [],
   "source": [
    "# 圖片預處理, size=1,000x1,000=>256x256, channels=3=>1\n",
    "def preprocess_image(image):\n",
    "    # image = tf.image.decode_jpeg(contents=image, channels=3)  # RGB\n",
    "    image = tf.image.decode_jpeg(contents=image, channels=1)    # grayscale, only .jpg\n",
    "    image = tf.image.resize(image, size=[256, 256])  # 參攷\n",
    "    # Normalize the pixel values\n",
    "    image /= 255.0  # normalize to [0,1] range\n",
    "    return image"
   ]
  },
  {
   "cell_type": "code",
   "execution_count": null,
   "metadata": {},
   "outputs": [],
   "source": [
    "# 讀取路徑圖片並預處理, 28x28\n",
    "def load_and_preprocess_image_28(path):\n",
    "    image = tf.io.read_file(path)  # 參攷\n",
    "    return preprocess_image_28(image)"
   ]
  },
  {
   "cell_type": "code",
   "execution_count": null,
   "metadata": {},
   "outputs": [],
   "source": [
    "# 圖片預處理, size=1,000x1,000=>256x256, channels=3=>1\n",
    "def preprocess_image_28(image):\n",
    "    # image = tf.image.decode_jpeg(contents=image, channels=3)  # RGB\n",
    "    image = tf.image.decode_jpeg(contents=image, channels=1)    # grayscale, only .jpg\n",
    "    image = tf.image.resize(image, size=[28, 28])  # 參攷\n",
    "    # Normalize the pixel values\n",
    "    image /= 255.0  # normalize to [0,1] range\n",
    "    return image"
   ]
  },
  {
   "cell_type": "markdown",
   "metadata": {},
   "source": [
    "#### 參攷: https://www.tensorflow.org/api_docs/python/tf/image/resize"
   ]
  },
  {
   "cell_type": "code",
   "execution_count": null,
   "metadata": {},
   "outputs": [],
   "source": [
    "# 載入及預處理 label\n",
    "def load_and_preprocess_from_path_label(path, label):\n",
    "    return load_and_preprocess_image(path), label"
   ]
  },
  {
   "cell_type": "code",
   "execution_count": null,
   "metadata": {},
   "outputs": [],
   "source": [
    "# 載入及預處理 label\n",
    "def load_and_preprocess_from_path_label_28(path, label):\n",
    "    return load_and_preprocess_image_28(path), label"
   ]
  },
  {
   "cell_type": "code",
   "execution_count": null,
   "metadata": {},
   "outputs": [],
   "source": [
    "# 秀單張圖\n",
    "def show_img(img_path, label, label_names):\n",
    "    plt.imshow(load_and_preprocess_image_rgb(img_path))\n",
    "    plt.grid(False)\n",
    "    plt.xlabel(label_names[label] + '=' + str(label))  # 參攷\n",
    "    # plt.title(label_names[label].title())\n",
    "    plt.show()"
   ]
  },
  {
   "cell_type": "markdown",
   "metadata": {},
   "source": [
    "#### 參攷: https://matplotlib.org/3.1.1/api/_as_gen/matplotlib.pyplot.xlabel.html"
   ]
  },
  {
   "cell_type": "code",
   "execution_count": null,
   "metadata": {},
   "outputs": [],
   "source": [
    "# 繪製模型訓練history的trend圖\n",
    "def history_plot(history, key):\n",
    "    plt.plot(history.history[key])\n",
    "    plt.plot(history.history['val_' + key])\n",
    "    plt.title('Model ' + key)\n",
    "    plt.ylabel(key)\n",
    "    plt.xlabel('epoch')\n",
    "    if key == 'loss':\n",
    "        locs='upper right'\n",
    "    else:\n",
    "        locs='upper left'\n",
    "    \n",
    "    plt.legend(['train', 'test'], loc=locs)  # 參攷\n",
    "    \n",
    "    plt.show()"
   ]
  },
  {
   "cell_type": "markdown",
   "metadata": {},
   "source": [
    "#### 參攷: https://matplotlib.org/3.1.1/api/_as_gen/matplotlib.pyplot.legend.html"
   ]
  },
  {
   "cell_type": "code",
   "execution_count": null,
   "metadata": {},
   "outputs": [],
   "source": [
    "# 解壓.gz\n",
    "def un_gz(file_name):\n",
    "    \"\"\" ungz zip file \"\"\"\n",
    "    f_name = file_name.replace(\".gz\", \"\")\n",
    "    # 去掉文件的名稱\n",
    "    g_file = gzip.GzipFile(file_name)\n",
    "    # 創建gzip對象\n",
    "    open(f_name, \"wb+\").write(g_file.read())\n",
    "    # gzip對象用read()打開後，寫入open()建立的文件裡\n",
    "    g_file.close()\n",
    "    # 關閉gzip對象"
   ]
  },
  {
   "cell_type": "code",
   "execution_count": null,
   "metadata": {},
   "outputs": [],
   "source": []
  }
 ],
 "metadata": {
  "kernelspec": {
   "display_name": "Python 3",
   "language": "python",
   "name": "python3"
  },
  "language_info": {
   "codemirror_mode": {
    "name": "ipython",
    "version": 3
   },
   "file_extension": ".py",
   "mimetype": "text/x-python",
   "name": "python",
   "nbconvert_exporter": "python",
   "pygments_lexer": "ipython3",
   "version": "3.7.5rc1"
  }
 },
 "nbformat": 4,
 "nbformat_minor": 2
}
